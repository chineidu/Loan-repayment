{
 "cells": [
  {
   "cell_type": "code",
   "execution_count": 1,
   "id": "277a3fe0-cd9c-4f31-afbd-239359b59ec5",
   "metadata": {},
   "outputs": [],
   "source": [
    "import numpy as np\n",
    "import pandas as pd\n",
    "from sklearn.preprocessing import LabelEncoder"
   ]
  },
  {
   "cell_type": "code",
   "execution_count": 2,
   "id": "91e08a86-83eb-4e93-8aa0-314f0745fbd9",
   "metadata": {},
   "outputs": [],
   "source": [
    "def load_estimator() -> 'estimator':\n",
    "    \"\"\"\n",
    "    ====================================================================\n",
    "    Load the trained model\n",
    "    \"\"\" \n",
    "    # load the model\n",
    "    with open('./model/estimator.pkl', 'rb') as f:\n",
    "        loaded_estimators = pickle.load(f)\n",
    "    return loaded_estimators"
   ]
  },
  {
   "cell_type": "code",
   "execution_count": null,
   "id": "dda5f96f-eb7c-4a4f-ac8c-5424985f39db",
   "metadata": {},
   "outputs": [],
   "source": [
    "# load the estimator\n",
    "estimator = load_estimator()\n",
    "clf = estimator['clf']\n",
    "le_gender = estimator['le_gender']\n",
    "le_married = estimator['le_married']\n",
    "le_dep = estimator['le_dep']\n",
    "le_edu = estimator['le_edu']\n",
    "le_self_emp = estimator['le_self_emp']\n",
    "le_pr_ar = estimator['le_pr_ar']\n",
    "\n",
    "# get data from postman\n",
    "req = request.get_json()\n",
    "test_data = {}\n",
    "test_data['Gender'] = [req['Gender']]\n",
    "test_data['Married'] = [req['Married']]\n",
    "test_data['Dependents'] = [req['Dependents']]\n",
    "test_data['Education'] = [req['Education']]\n",
    "test_data['Self_Employed'] = r[eq['Self_Employed']]\n",
    "test_data['ApplicantIncome'] = [req['ApplicantIncome']]\n",
    "test_data['CoapplicantIncome'] = [req['CoapplicantIncome']]\n",
    "test_data['LoanAmount'] = [req['LoanAmount']]\n",
    "test_data['Loan_Amount_Term'] = [req['Loan_Amount_Term']]\n",
    "test_data['Credit_History'] = [req['Credit_History']]\n",
    "test_data['Property_Area'] = [req['Property_Area']]\n",
    "# convert to dataframe\n",
    "df = pd.DataFrame.from_dict(data, orient='columns')\n",
    "new_data = df.to_numpy()\n",
    "# encode the categorical features\n",
    "new_data[:, 0] = le_gender.transform(new_data[:, 0])\n",
    "new_data[:, 1] = le_married.transform(new_data[:, 1])\n",
    "new_data[:, 2] = le_dep.transform(new_data[:, 2])\n",
    "new_data[:, 3] = le_edu.transform(new_data[:, 3])\n",
    "new_data[:, 4] = le_self_emp.transform(new_data[:, 4])\n",
    "new_data[:, 10] = le_pr_ar.transform(new_data[:, 10])\n",
    "\n",
    "# make predictions\n",
    "pred = clf.predict(new_data)\n",
    "test_data['Prediction'] = pred\n",
    "test_data = test_data['Prediction']\n",
    "result = ['Yes' if test_data == 1 else 'No']\n",
    "return jsonify({'Prediction': result})"
   ]
  },
  {
   "cell_type": "code",
   "execution_count": 9,
   "id": "8543a421-da7b-4030-b4c9-8cf33137d9d7",
   "metadata": {},
   "outputs": [
    {
     "data": {
      "text/html": [
       "<div>\n",
       "<style scoped>\n",
       "    .dataframe tbody tr th:only-of-type {\n",
       "        vertical-align: middle;\n",
       "    }\n",
       "\n",
       "    .dataframe tbody tr th {\n",
       "        vertical-align: top;\n",
       "    }\n",
       "\n",
       "    .dataframe thead th {\n",
       "        text-align: right;\n",
       "    }\n",
       "</style>\n",
       "<table border=\"1\" class=\"dataframe\">\n",
       "  <thead>\n",
       "    <tr style=\"text-align: right;\">\n",
       "      <th></th>\n",
       "      <th>Gender</th>\n",
       "      <th>Married</th>\n",
       "    </tr>\n",
       "  </thead>\n",
       "  <tbody>\n",
       "    <tr>\n",
       "      <th>0</th>\n",
       "      <td>Male</td>\n",
       "      <td>Yes</td>\n",
       "    </tr>\n",
       "  </tbody>\n",
       "</table>\n",
       "</div>"
      ],
      "text/plain": [
       "  Gender Married\n",
       "0   Male     Yes"
      ]
     },
     "execution_count": 9,
     "metadata": {},
     "output_type": "execute_result"
    }
   ],
   "source": [
    "data = {}\n",
    "data['Gender'] = ['Male']\n",
    "data['Married'] =['Yes']\n",
    "\n",
    "pd.DataFrame.from_dict(data, orient='columns')"
   ]
  },
  {
   "cell_type": "code",
   "execution_count": null,
   "id": "87ffbb07-28d7-4411-851f-0bb90d22c95f",
   "metadata": {},
   "outputs": [],
   "source": []
  },
  {
   "cell_type": "code",
   "execution_count": null,
   "id": "1f58f139-5443-453f-810d-8360286bd5a6",
   "metadata": {},
   "outputs": [],
   "source": []
  },
  {
   "cell_type": "code",
   "execution_count": null,
   "id": "f08eb091-af5a-41e4-8c7a-6f020c51bd29",
   "metadata": {},
   "outputs": [],
   "source": []
  },
  {
   "cell_type": "code",
   "execution_count": null,
   "id": "fa494691-05b7-4122-b2b4-10d9745698d9",
   "metadata": {},
   "outputs": [],
   "source": []
  },
  {
   "cell_type": "code",
   "execution_count": null,
   "id": "35bb07f6-fae8-4e84-9ce9-321a2f4c86b7",
   "metadata": {},
   "outputs": [],
   "source": []
  },
  {
   "cell_type": "code",
   "execution_count": null,
   "id": "354bf1be-ec0b-407a-8841-8ed66f8014de",
   "metadata": {},
   "outputs": [],
   "source": []
  },
  {
   "cell_type": "code",
   "execution_count": null,
   "id": "e4272663-4639-49b5-889b-d4f0be0ee860",
   "metadata": {},
   "outputs": [],
   "source": []
  },
  {
   "cell_type": "code",
   "execution_count": null,
   "id": "dc52b98f-3cf9-4e29-9339-07ebb23a01e3",
   "metadata": {},
   "outputs": [],
   "source": []
  },
  {
   "cell_type": "code",
   "execution_count": null,
   "id": "ab9eb520-402a-41ad-8be1-fe2e93ff2506",
   "metadata": {},
   "outputs": [],
   "source": []
  }
 ],
 "metadata": {
  "kernelspec": {
   "display_name": "ds",
   "language": "python",
   "name": "ds"
  },
  "language_info": {
   "codemirror_mode": {
    "name": "ipython",
    "version": 3
   },
   "file_extension": ".py",
   "mimetype": "text/x-python",
   "name": "python",
   "nbconvert_exporter": "python",
   "pygments_lexer": "ipython3",
   "version": "3.8.5"
  }
 },
 "nbformat": 4,
 "nbformat_minor": 5
}
